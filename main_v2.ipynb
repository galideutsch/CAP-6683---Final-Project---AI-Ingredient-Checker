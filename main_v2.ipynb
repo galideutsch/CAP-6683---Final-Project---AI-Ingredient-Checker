{
 "cells": [
  {
   "cell_type": "code",
   "execution_count": 60,
   "metadata": {},
   "outputs": [
    {
     "data": {
      "text/plain": [
       "\"\\nSteps:\\n1. user uploads photo of ingredients ✓        \\n2. convert photo to text ✓\\n3. convert text to list ✓\\n4. call Cosmily API for EWG analysis ✓\\n5. return ingredients report to user\\n\\nError Handling:\\n- user input is a jpg, jpeg, or png file.\\n- Blurry Image\\n- Ingredients are not found in Cosmily database\\n- Image is not of ingredients or does not have any text in it\\n\\nIf extra time:\\n- scrape a website for a product's ingredients\\n- add dictionary instead of hardcoded phrasing\\n\""
      ]
     },
     "execution_count": 60,
     "metadata": {},
     "output_type": "execute_result"
    }
   ],
   "source": [
    "from config import *\n",
    "import cv2\n",
    "import pytesseract\n",
    "import re\n",
    "from nltk.corpus import stopwords\n",
    "import requests\n",
    "import pandas as pd\n",
    "\n",
    "\n",
    "\"\"\"\n",
    "Steps:\n",
    "1. user uploads photo of ingredients ✓        \n",
    "2. convert photo to text ✓\n",
    "3. convert text to list ✓\n",
    "4. call Cosmily API for EWG analysis ✓\n",
    "5. return ingredients report to user\n",
    "\n",
    "Error Handling:\n",
    "- user input is a jpg, jpeg, or png file.\n",
    "- Blurry Image\n",
    "- Ingredients are not found in Cosmily database\n",
    "- Image is not of ingredients or does not have any text in it\n",
    "\n",
    "If extra time:\n",
    "- scrape a website for a product's ingredients\n",
    "- add dictionary instead of hardcoded phrasing\n",
    "\"\"\""
   ]
  },
  {
   "cell_type": "markdown",
   "metadata": {},
   "source": []
  },
  {
   "cell_type": "code",
   "execution_count": 61,
   "metadata": {},
   "outputs": [],
   "source": [
    "image_path = './images/sensodyne.png'"
   ]
  },
  {
   "cell_type": "code",
   "execution_count": 62,
   "metadata": {},
   "outputs": [],
   "source": [
    "def convert_image_to_text(path):\n",
    "    # open image and convert to rgb\n",
    "    img = cv2.imread(path)\n",
    "    b,g,r = cv2.split(img)\n",
    "    img_rgb = cv2.merge([r,g,b])\n",
    "\n",
    "    # convert image to string\n",
    "    return re.findall(r'[^.,:/\\n]+', pytesseract.image_to_string(img_rgb))      # custom_config = r'--oem 3 --psm 6' --> add config param if words are too blurry\n",
    "\n",
    "text = convert_image_to_text(image_path)"
   ]
  },
  {
   "cell_type": "markdown",
   "metadata": {},
   "source": []
  },
  {
   "cell_type": "code",
   "execution_count": 63,
   "metadata": {},
   "outputs": [],
   "source": [
    "def preprocess(text):\n",
    "    stop_words = set(stopwords.words('english'))\n",
    "    ingredients_list = []\n",
    "\n",
    "    # remove stop words, the word \"ingredients\", and leading spaces\n",
    "    for item in text:\n",
    "        item = item.lstrip()\n",
    "        if \"ingredients\" not in item.lower() and item not in stop_words:\n",
    "            ingredients_list.append(item)\n",
    "\n",
    "    ingredients = ', '.join(ingredients_list)\n",
    "    return ingredients\n",
    "\n",
    "ingredients = preprocess(text)"
   ]
  },
  {
   "cell_type": "markdown",
   "metadata": {},
   "source": []
  },
  {
   "cell_type": "code",
   "execution_count": 64,
   "metadata": {},
   "outputs": [],
   "source": [
    "def analyze(ingredients):\n",
    "    # get analysis of ingredient list from cosmily database api\n",
    "    api_url = 'https://api.cosmily.com/api/v1/analyze/ingredient_list'\n",
    "    headers =  {\"Content-Type\":\"application/json\", \"Authorization\": AUTH_TOKEN}\n",
    "    params = {\"ingredients\": ingredients}\n",
    "    response = requests.post(api_url, params=params, headers=headers)\n",
    "    return response.json()['analysis']\n",
    "\n",
    "analysis = analyze(ingredients)"
   ]
  },
  {
   "cell_type": "markdown",
   "metadata": {},
   "source": []
  },
  {
   "cell_type": "code",
   "execution_count": 65,
   "metadata": {},
   "outputs": [
    {
     "name": "stdout",
     "output_type": "stream",
     "text": [
      "dict_keys(['total_ingredients', 'ingredients_table', 'harmful', 'positive', 'notable', 'ewg', 'natural', 'text', 'description', 'share_token', 'ingredient_group', 'owner_user', 'permissions'])\n"
     ]
    }
   ],
   "source": [
    "def report(analysis):\n",
    "    # description = f'This product contains {analysis[\"total_ingredients\"]} ingredients.'\n",
    "    # print(analysis['description'])\n",
    "\n",
    "    # # TODO: EWG stats\n",
    "    # self.analysis[\"ewg\"]\n",
    "\n",
    "    # print(\"DETRIMENTS\")\n",
    "    # # TODO: loop through and list negatives and harmful\n",
    "    # self.analysis[\"negatives\"]\n",
    "    # \n",
    "    print((analysis))\n",
    "    \n",
    "\n",
    "    # print(\"BENEFITS\")\n",
    "    # # TODO: loop through and list positives and notables\n",
    "    # self.analysis[\"positives\"]\n",
    "    # self.analysis[\"notable\"]\n",
    "\n",
    "    # # TODO: loop though each ingredient in ingredients_table and provide breakdown\n",
    "    # print(\"\\nWould you like to view the full ingredients data breakdown? (Y/N)\")\n",
    "    # show_breakdown = input\n",
    "\n",
    "    # if show_breakdown.lower() == 'y':\n",
    "    #     print(pd.DataFrame(self.analysis[\"ingredients_table\"]))\n",
    "    \n",
    "    # # TODO: End report\n",
    "\n",
    "report(analysis.keys())"
   ]
  },
  {
   "cell_type": "markdown",
   "metadata": {},
   "source": [
    "<b>Description of main findings</b>\n"
   ]
  },
  {
   "cell_type": "code",
   "execution_count": 66,
   "metadata": {},
   "outputs": [
    {
     "name": "stdout",
     "output_type": "stream",
     "text": [
      "The product contains 14 ingredients. INCI: Aqua, Hydrated Silica, Sorbitol, and more. We have found polyethylene glycol (PEG), synthetic fragrances.\n"
     ]
    }
   ],
   "source": [
    "print(analysis['description'])"
   ]
  },
  {
   "cell_type": "markdown",
   "metadata": {},
   "source": [
    "<b>Ingredient break down"
   ]
  },
  {
   "cell_type": "code",
   "execution_count": 67,
   "metadata": {},
   "outputs": [
    {
     "data": {
      "text/html": [
       "<div>\n",
       "<style scoped>\n",
       "    .dataframe tbody tr th:only-of-type {\n",
       "        vertical-align: middle;\n",
       "    }\n",
       "\n",
       "    .dataframe tbody tr th {\n",
       "        vertical-align: top;\n",
       "    }\n",
       "\n",
       "    .dataframe thead th {\n",
       "        text-align: right;\n",
       "    }\n",
       "</style>\n",
       "<table border=\"1\" class=\"dataframe\">\n",
       "  <thead>\n",
       "    <tr style=\"text-align: right;\">\n",
       "      <th></th>\n",
       "      <th>Name</th>\n",
       "      <th>Decision</th>\n",
       "    </tr>\n",
       "  </thead>\n",
       "  <tbody>\n",
       "    <tr>\n",
       "      <th>0</th>\n",
       "      <td>Aqua</td>\n",
       "      <td>Safe</td>\n",
       "    </tr>\n",
       "    <tr>\n",
       "      <th>1</th>\n",
       "      <td>Hydrated Silica</td>\n",
       "      <td>Safe</td>\n",
       "    </tr>\n",
       "    <tr>\n",
       "      <th>2</th>\n",
       "      <td>Sorbitol</td>\n",
       "      <td>Safe</td>\n",
       "    </tr>\n",
       "    <tr>\n",
       "      <th>3</th>\n",
       "      <td>Potassium Nitrate</td>\n",
       "      <td>Safe</td>\n",
       "    </tr>\n",
       "    <tr>\n",
       "      <th>4</th>\n",
       "      <td>Glycerin</td>\n",
       "      <td>Safe</td>\n",
       "    </tr>\n",
       "    <tr>\n",
       "      <th>5</th>\n",
       "      <td>PEG-6</td>\n",
       "      <td>Safe - Moderate hazard</td>\n",
       "    </tr>\n",
       "    <tr>\n",
       "      <th>6</th>\n",
       "      <td>Sodium Lauryl Sulphate</td>\n",
       "      <td>N/A</td>\n",
       "    </tr>\n",
       "    <tr>\n",
       "      <th>7</th>\n",
       "      <td>Aroma</td>\n",
       "      <td>High hazard</td>\n",
       "    </tr>\n",
       "    <tr>\n",
       "      <th>8</th>\n",
       "      <td>Titanium Dioxide</td>\n",
       "      <td>Safe - Moderate hazard</td>\n",
       "    </tr>\n",
       "    <tr>\n",
       "      <th>9</th>\n",
       "      <td>Xanthan Gum</td>\n",
       "      <td>Safe</td>\n",
       "    </tr>\n",
       "    <tr>\n",
       "      <th>10</th>\n",
       "      <td>Cocamidopropyi Betaine</td>\n",
       "      <td>N/A</td>\n",
       "    </tr>\n",
       "    <tr>\n",
       "      <th>11</th>\n",
       "      <td>Sodium Saccharin</td>\n",
       "      <td>Safe</td>\n",
       "    </tr>\n",
       "    <tr>\n",
       "      <th>12</th>\n",
       "      <td>Sodium Fluoride</td>\n",
       "      <td>N/A</td>\n",
       "    </tr>\n",
       "    <tr>\n",
       "      <th>13</th>\n",
       "      <td>Sodium Hydroxide</td>\n",
       "      <td>Safe - Moderate hazard</td>\n",
       "    </tr>\n",
       "  </tbody>\n",
       "</table>\n",
       "</div>"
      ],
      "text/plain": [
       "                      Name                Decision\n",
       "0                     Aqua                    Safe\n",
       "1          Hydrated Silica                    Safe\n",
       "2                 Sorbitol                    Safe\n",
       "3        Potassium Nitrate                    Safe\n",
       "4                 Glycerin                    Safe\n",
       "5                    PEG-6  Safe - Moderate hazard\n",
       "6   Sodium Lauryl Sulphate                     N/A\n",
       "7                    Aroma             High hazard\n",
       "8         Titanium Dioxide  Safe - Moderate hazard\n",
       "9              Xanthan Gum                    Safe\n",
       "10  Cocamidopropyi Betaine                     N/A\n",
       "11        Sodium Saccharin                    Safe\n",
       "12         Sodium Fluoride                     N/A\n",
       "13        Sodium Hydroxide  Safe - Moderate hazard"
      ]
     },
     "execution_count": 67,
     "metadata": {},
     "output_type": "execute_result"
    }
   ],
   "source": [
    "ingredients_dictlist = []\n",
    "ingdf = pd.DataFrame(columns=['Name','Alias','Decision'])\n",
    "\n",
    "ings = []\n",
    "ali = []\n",
    "decis = []\n",
    "for ing in analysis['ingredients_table']:\n",
    "    ingredients_dictlist.append(ing)\n",
    "    ings.append(ing['title'])\n",
    "    ali.append(ing['alias'])\n",
    "    \n",
    "    try:\n",
    "        ing['ewg']['decision']\n",
    "    except:\n",
    "        decis.append('N/A')\n",
    "    else:\n",
    "        decis.append(ing['ewg']['decision'])\n",
    "\n",
    "\n",
    "ingdf['Name'] = ings\n",
    "ingdf['Alias'] = ali\n",
    "ingdf['Decision'] = decis\n",
    "\n",
    "\n",
    "ingdf"
   ]
  },
  {
   "cell_type": "markdown",
   "metadata": {},
   "source": [
    "<b>Beneficial aspects</b>"
   ]
  },
  {
   "cell_type": "code",
   "execution_count": 68,
   "metadata": {},
   "outputs": [
    {
     "data": {
      "text/html": [
       "<div>\n",
       "<style scoped>\n",
       "    .dataframe tbody tr th:only-of-type {\n",
       "        vertical-align: middle;\n",
       "    }\n",
       "\n",
       "    .dataframe tbody tr th {\n",
       "        vertical-align: top;\n",
       "    }\n",
       "\n",
       "    .dataframe thead th {\n",
       "        text-align: right;\n",
       "    }\n",
       "</style>\n",
       "<table border=\"1\" class=\"dataframe\">\n",
       "  <thead>\n",
       "    <tr style=\"text-align: right;\">\n",
       "      <th></th>\n",
       "      <th>Positive</th>\n",
       "      <th>Description</th>\n",
       "      <th>Ingredients</th>\n",
       "    </tr>\n",
       "  </thead>\n",
       "  <tbody>\n",
       "    <tr>\n",
       "      <th>0</th>\n",
       "      <td>Moisturising</td>\n",
       "      <td>Hydrates the skin</td>\n",
       "      <td>Sorbitol</td>\n",
       "    </tr>\n",
       "    <tr>\n",
       "      <th>1</th>\n",
       "      <td>Softening</td>\n",
       "      <td>Improves texture</td>\n",
       "      <td>Sorbitol</td>\n",
       "    </tr>\n",
       "    <tr>\n",
       "      <th>2</th>\n",
       "      <td>Soothing</td>\n",
       "      <td>Reduces irritation</td>\n",
       "      <td>Sorbitol</td>\n",
       "    </tr>\n",
       "    <tr>\n",
       "      <th>3</th>\n",
       "      <td>Antiseptic</td>\n",
       "      <td>Kills bacteria</td>\n",
       "      <td>Xanthan Gum</td>\n",
       "    </tr>\n",
       "    <tr>\n",
       "      <th>4</th>\n",
       "      <td>UV Protection</td>\n",
       "      <td>Blocks sun damage</td>\n",
       "      <td>Titanium Dioxide</td>\n",
       "    </tr>\n",
       "  </tbody>\n",
       "</table>\n",
       "</div>"
      ],
      "text/plain": [
       "        Positive         Description       Ingredients\n",
       "0   Moisturising   Hydrates the skin          Sorbitol\n",
       "1      Softening    Improves texture          Sorbitol\n",
       "2       Soothing  Reduces irritation          Sorbitol\n",
       "3     Antiseptic      Kills bacteria       Xanthan Gum\n",
       "4  UV Protection   Blocks sun damage  Titanium Dioxide"
      ]
     },
     "execution_count": 68,
     "metadata": {},
     "output_type": "execute_result"
    }
   ],
   "source": [
    "df = pd.DataFrame(columns=['Positive','Description','Ingredients'])\n",
    "\n",
    "pos = []\n",
    "desc = []\n",
    "ings = []\n",
    "for positive in analysis['positive']:\n",
    "    pos.append(analysis['positive'][positive]['title'])\n",
    "    desc.append(analysis['positive'][positive]['description'])\n",
    "    ings.append(analysis['positive'][positive]['list'][0]['title'])\n",
    "\n",
    "df['Positive'] = pos\n",
    "df['Description'] = desc\n",
    "df['Ingredients'] = ings\n",
    "\n",
    "\n",
    "df"
   ]
  },
  {
   "cell_type": "markdown",
   "metadata": {},
   "source": [
    "<b>Harmful ingredients</b>"
   ]
  },
  {
   "cell_type": "code",
   "execution_count": 78,
   "metadata": {},
   "outputs": [
    {
     "data": {
      "text/html": [
       "<div>\n",
       "<style scoped>\n",
       "    .dataframe tbody tr th:only-of-type {\n",
       "        vertical-align: middle;\n",
       "    }\n",
       "\n",
       "    .dataframe tbody tr th {\n",
       "        vertical-align: top;\n",
       "    }\n",
       "\n",
       "    .dataframe thead th {\n",
       "        text-align: right;\n",
       "    }\n",
       "</style>\n",
       "<table border=\"1\" class=\"dataframe\">\n",
       "  <thead>\n",
       "    <tr style=\"text-align: right;\">\n",
       "      <th></th>\n",
       "      <th>Name</th>\n",
       "      <th>Harmful Ingredient</th>\n",
       "      <th>Description</th>\n",
       "    </tr>\n",
       "  </thead>\n",
       "  <tbody>\n",
       "    <tr>\n",
       "      <th>0</th>\n",
       "      <td>PEG</td>\n",
       "      <td>PEG-6</td>\n",
       "      <td>Polyethylene glycol</td>\n",
       "    </tr>\n",
       "    <tr>\n",
       "      <th>1</th>\n",
       "      <td>Fragrance</td>\n",
       "      <td>Aroma</td>\n",
       "      <td>Complex chemicals</td>\n",
       "    </tr>\n",
       "  </tbody>\n",
       "</table>\n",
       "</div>"
      ],
      "text/plain": [
       "        Name Harmful Ingredient          Description\n",
       "0        PEG              PEG-6  Polyethylene glycol\n",
       "1  Fragrance              Aroma    Complex chemicals"
      ]
     },
     "execution_count": 78,
     "metadata": {},
     "output_type": "execute_result"
    }
   ],
   "source": [
    "harmdf = pd.DataFrame(columns=['Name','Harmful Ingredient','Description'])\n",
    "name = []\n",
    "desc = []\n",
    "ings = []\n",
    "for h in analysis['harmful']:\n",
    "    if len(analysis['harmful'][h]['list']) > 0:\n",
    "        for i in analysis['harmful'][h]['list']:\n",
    "            name.append(analysis['harmful'][h]['title'])\n",
    "            desc.append(analysis['harmful'][h]['description'])\n",
    "            ings.append(i['title'])\n",
    "\n",
    "harmdf['Name'] = name\n",
    "harmdf['Harmful Ingredient'] = ings\n",
    "harmdf['Description'] = desc\n",
    "\n",
    "harmdf"
   ]
  }
 ],
 "metadata": {
  "kernelspec": {
   "display_name": "Python 3.11.0 64-bit",
   "language": "python",
   "name": "python3"
  },
  "language_info": {
   "codemirror_mode": {
    "name": "ipython",
    "version": 3
   },
   "file_extension": ".py",
   "mimetype": "text/x-python",
   "name": "python",
   "nbconvert_exporter": "python",
   "pygments_lexer": "ipython3",
   "version": "3.11.0"
  },
  "orig_nbformat": 4,
  "vscode": {
   "interpreter": {
    "hash": "0025fd0a6750b395105ac7ef65ffe7814f7cc937b2fd3d871409f44676666b8d"
   }
  }
 },
 "nbformat": 4,
 "nbformat_minor": 2
}
