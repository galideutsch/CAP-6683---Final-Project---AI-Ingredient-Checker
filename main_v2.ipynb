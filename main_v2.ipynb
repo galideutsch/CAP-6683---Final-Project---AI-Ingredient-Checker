{
 "cells": [
  {
   "cell_type": "code",
   "execution_count": 1,
   "metadata": {},
   "outputs": [
    {
     "data": {
      "text/plain": [
       "\"\\nSteps:\\n1. user uploads photo of ingredients ✓        \\n2. convert photo to text ✓\\n3. convert text to list ✓\\n4. call Cosmily API for EWG analysis ✓\\n5. return ingredients report to user\\n\\nError Handling:\\n- user input is a jpg, jpeg, or png file.\\n- Blurry Image\\n- Ingredients are not found in Cosmily database\\n- Image is not of ingredients or does not have any text in it\\n\\nIf extra time:\\n- scrape a website for a product's ingredients\\n- add dictionary instead of hardcoded phrasing\\n\""
      ]
     },
     "execution_count": 1,
     "metadata": {},
     "output_type": "execute_result"
    }
   ],
   "source": [
    "from config import *\n",
    "import cv2\n",
    "import pytesseract\n",
    "import re\n",
    "from nltk.corpus import stopwords\n",
    "import requests\n",
    "import pandas as pd\n",
    "\n",
    "\n",
    "\"\"\"\n",
    "Steps:\n",
    "1. user uploads photo of ingredients ✓        \n",
    "2. convert photo to text ✓\n",
    "3. convert text to list ✓\n",
    "4. call Cosmily API for EWG analysis ✓\n",
    "5. return ingredients report to user\n",
    "\n",
    "Error Handling:\n",
    "- user input is a jpg, jpeg, or png file.\n",
    "- Blurry Image\n",
    "- Ingredients are not found in Cosmily database\n",
    "- Image is not of ingredients or does not have any text in it\n",
    "\n",
    "If extra time:\n",
    "- scrape a website for a product's ingredients\n",
    "- add dictionary instead of hardcoded phrasing\n",
    "\"\"\""
   ]
  },
  {
   "cell_type": "markdown",
   "metadata": {},
   "source": []
  },
  {
   "cell_type": "code",
   "execution_count": 7,
   "metadata": {},
   "outputs": [],
   "source": [
    "image_path = './images/sensodyne.png'"
   ]
  },
  {
   "cell_type": "code",
   "execution_count": 8,
   "metadata": {},
   "outputs": [],
   "source": [
    "def convert_image_to_text(path):\n",
    "    # open image and convert to rgb\n",
    "    img = cv2.imread(path)\n",
    "    b,g,r = cv2.split(img)\n",
    "    img_rgb = cv2.merge([r,g,b])\n",
    "\n",
    "    # convert image to string\n",
    "    return re.findall(r'[^.,:/\\n]+', pytesseract.image_to_string(img_rgb))      # custom_config = r'--oem 3 --psm 6' --> add config param if words are too blurry\n",
    "\n",
    "text = convert_image_to_text(image_path)"
   ]
  },
  {
   "cell_type": "markdown",
   "metadata": {},
   "source": []
  },
  {
   "cell_type": "code",
   "execution_count": 9,
   "metadata": {},
   "outputs": [],
   "source": [
    "def preprocess(text):\n",
    "    stop_words = set(stopwords.words('english'))\n",
    "    ingredients_list = []\n",
    "\n",
    "    # remove stop words, the word \"ingredients\", and leading spaces\n",
    "    for item in text:\n",
    "        item = item.lstrip()\n",
    "        if \"ingredients\" not in item.lower() and item not in stop_words:\n",
    "            ingredients_list.append(item)\n",
    "\n",
    "    ingredients = ', '.join(ingredients_list)\n",
    "    return ingredients\n",
    "\n",
    "ingredients = preprocess(text)"
   ]
  },
  {
   "cell_type": "markdown",
   "metadata": {},
   "source": []
  },
  {
   "cell_type": "code",
   "execution_count": null,
   "metadata": {},
   "outputs": [],
   "source": [
    "def analyze(ingredients):\n",
    "    # get analysis of ingredient list from cosmily database api\n",
    "    api_url = 'https://api.cosmily.com/api/v1/analyze/ingredient_list'\n",
    "    headers =  {\"Content-Type\":\"application/json\", \"Authorization\": AUTH_TOKEN}\n",
    "    params = {\"ingredients\": ingredients}\n",
    "    response = requests.post(api_url, params=params, headers=headers)\n",
    "    return response.json()['analysis']\n",
    "\n",
    "analysis = analyze(ingredients)"
   ]
  },
  {
   "cell_type": "markdown",
   "metadata": {},
   "source": []
  },
  {
   "cell_type": "code",
   "execution_count": null,
   "metadata": {},
   "outputs": [],
   "source": [
    "def report(analysis):\n",
    "    description = f'This product contains {analysis[\"total_ingredients\"]} ingredients.'\n",
    "    print(description)\n",
    "\n",
    "    # # TODO: EWG stats\n",
    "    # self.analysis[\"ewg\"]\n",
    "\n",
    "    # print(\"DETRIMENTS\")\n",
    "    # # TODO: loop through and list negatives and harmful\n",
    "    # self.analysis[\"negatives\"]\n",
    "    # self.analysis[\"harmful\"]\n",
    "\n",
    "    # print(\"BENEFITS\")\n",
    "    # # TODO: loop through and list positives and notables\n",
    "    # self.analysis[\"positives\"]\n",
    "    # self.analysis[\"notable\"]\n",
    "\n",
    "    # # TODO: loop though each ingredient in ingredients_table and provide breakdown\n",
    "    # print(\"\\nWould you like to view the full ingredients data breakdown? (Y/N)\")\n",
    "    # show_breakdown = input\n",
    "\n",
    "    # if show_breakdown.lower() == 'y':\n",
    "    #     print(pd.DataFrame(self.analysis[\"ingredients_table\"]))\n",
    "    \n",
    "    # # TODO: End report\n",
    "\n",
    "report(analysis)"
   ]
  },
  {
   "cell_type": "code",
   "execution_count": null,
   "metadata": {},
   "outputs": [],
   "source": []
  }
 ],
 "metadata": {
  "kernelspec": {
   "display_name": "Python 3.8.8 ('base')",
   "language": "python",
   "name": "python3"
  },
  "language_info": {
   "codemirror_mode": {
    "name": "ipython",
    "version": 3
   },
   "file_extension": ".py",
   "mimetype": "text/x-python",
   "name": "python",
   "nbconvert_exporter": "python",
   "pygments_lexer": "ipython3",
   "version": "3.8.8"
  },
  "orig_nbformat": 4,
  "vscode": {
   "interpreter": {
    "hash": "5c72b6a234f24d3070a59bfaa7f89512ef407a62422708fb4625b6e424c1c5a7"
   }
  }
 },
 "nbformat": 4,
 "nbformat_minor": 2
}
