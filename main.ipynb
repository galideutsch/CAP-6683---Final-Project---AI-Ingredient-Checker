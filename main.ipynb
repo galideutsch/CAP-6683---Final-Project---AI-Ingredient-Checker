{
 "cells": [
  {
   "cell_type": "code",
   "execution_count": 1,
   "metadata": {},
   "outputs": [
    {
     "data": {
      "text/plain": [
       "\"\\nSteps:\\n1. user uploads photo of ingredients ✓        \\n2. convert photo to text ✓\\n3. convert text to list ✓\\n4. call Cosmily API for EWG analysis ✓\\n5. return ingredients report to user\\n\\nError Handling:\\n- user input is a jpg, jpeg, or png file.\\n- Blurry Image\\n- Ingredients are not found in Cosmily database\\n- Image is not of ingredients or does not have any text in it\\n\\nIf extra time:\\n- scrape a website for a product's ingredients\\n- add dictionary instead of hardcoded phrasing\\n\""
      ]
     },
     "execution_count": 1,
     "metadata": {},
     "output_type": "execute_result"
    }
   ],
   "source": [
    "from config import *\n",
    "import cv2\n",
    "import pytesseract\n",
    "import re\n",
    "from nltk.corpus import stopwords\n",
    "import requests\n",
    "import pandas as pd\n",
    "\n",
    "\n",
    "\"\"\"\n",
    "Steps:\n",
    "1. user uploads photo of ingredients ✓        \n",
    "2. convert photo to text ✓\n",
    "3. convert text to list ✓\n",
    "4. call Cosmily API for EWG analysis ✓\n",
    "5. return ingredients report to user\n",
    "\n",
    "Error Handling:\n",
    "- user input is a jpg, jpeg, or png file.\n",
    "- Blurry Image\n",
    "- Ingredients are not found in Cosmily database\n",
    "- Image is not of ingredients or does not have any text in it\n",
    "\n",
    "If extra time:\n",
    "- scrape a website for a product's ingredients\n",
    "- add dictionary instead of hardcoded phrasing\n",
    "\"\"\""
   ]
  },
  {
   "cell_type": "markdown",
   "metadata": {},
   "source": []
  },
  {
   "cell_type": "code",
   "execution_count": 2,
   "metadata": {},
   "outputs": [],
   "source": [
    "class IngredientChecker():\n",
    "    def __init__(self, file_path):\n",
    "        self.ingredients = None\n",
    "        self.convert_image_to_text(file_path)\n",
    "        self.analyze()\n",
    "\n",
    "    def preprocess(self, text):\n",
    "        stop_words = set(stopwords.words('english'))\n",
    "        ingredients_list = []\n",
    "\n",
    "        # remove stop words, the word \"ingredients\", and leading spaces\n",
    "        for item in text:\n",
    "            item = item.lstrip()\n",
    "            if \"ingredients\" not in item.lower() and item not in stop_words:\n",
    "                ingredients_list.append(item)\n",
    "\n",
    "        self.ingredients = ', '.join(ingredients_list)\n",
    "\n",
    "    def convert_image_to_text(self, path):\n",
    "        # open image and convert to rgb\n",
    "        img = cv2.imread(path)\n",
    "        b,g,r = cv2.split(img)\n",
    "        img_rgb = cv2.merge([r,g,b])\n",
    "\n",
    "        # convert image to string\n",
    "        text = re.findall(r'[^.,:/\\n]+', pytesseract.image_to_string(img_rgb))      # custom_config = r'--oem 3 --psm 6' --> add config param if words are too blurry\n",
    "        self.preprocess(text)\n",
    "\n",
    "    def analyze(self):\n",
    "        # get analysis of ingredient list from cosmily database api\n",
    "        api_url = 'https://api.cosmily.com/api/v1/analyze/ingredient_list'\n",
    "        headers =  {\"Content-Type\":\"application/json\", \"Authorization\": AUTH_TOKEN}\n",
    "        params = {\"ingredients\": self.ingredients}\n",
    "        response = requests.post(api_url, params=params, headers=headers)\n",
    "        self.analysis = response.json()['analysis']\n",
    "\n",
    "    def report(self):\n",
    "        description = f'This product contains {self.analysis[\"total_ingredients\"]} ingredients.'\n",
    "        print(description)\n",
    "\n",
    "        # # TODO: EWG stats\n",
    "        # self.analysis[\"ewg\"]\n",
    "\n",
    "        # print(\"DETRIMENTS\")\n",
    "        # # TODO: loop through and list negatives and harmful\n",
    "        # self.analysis[\"negatives\"]\n",
    "        # self.analysis[\"harmful\"]\n",
    "\n",
    "        # print(\"BENEFITS\")\n",
    "        # # TODO: loop through and list positives and notables\n",
    "        # self.analysis[\"positives\"]\n",
    "        # self.analysis[\"notable\"]\n",
    "\n",
    "        # # TODO: loop though each ingredient in ingredients_table and provide breakdown\n",
    "        # print(\"\\nWould you like to view the full ingredients data breakdown? (Y/N)\")\n",
    "        # show_breakdown = input\n",
    "\n",
    "        # if show_breakdown.lower() == 'y':\n",
    "        #     print(pd.DataFrame(self.analysis[\"ingredients_table\"]))\n",
    "        \n",
    "        # # TODO: End report"
   ]
  },
  {
   "cell_type": "markdown",
   "metadata": {},
   "source": []
  },
  {
   "cell_type": "code",
   "execution_count": 3,
   "metadata": {},
   "outputs": [],
   "source": [
    "def start():\n",
    "    print('Please enter the image file path:')\n",
    "    # TODO: test more images and remove default\n",
    "    # image_path = input()\n",
    "    image_path = './images/sensodyne.png'\n",
    "    checker = IngredientChecker(image_path)\n",
    "    checker.report()\n",
    "    checker = None\n"
   ]
  },
  {
   "cell_type": "markdown",
   "metadata": {},
   "source": []
  },
  {
   "cell_type": "code",
   "execution_count": 4,
   "metadata": {},
   "outputs": [
    {
     "name": "stdout",
     "output_type": "stream",
     "text": [
      "Ready to check some ingredients?\n",
      "Please enter the image file path:\n"
     ]
    },
    {
     "ename": "NameError",
     "evalue": "name 'AUTH_TOKEN' is not defined",
     "output_type": "error",
     "traceback": [
      "\u001b[1;31m---------------------------------------------------------------------------\u001b[0m",
      "\u001b[1;31mNameError\u001b[0m                                 Traceback (most recent call last)",
      "Cell \u001b[1;32mIn[4], line 13\u001b[0m\n\u001b[0;32m      9\u001b[0m             done \u001b[39m+\u001b[39m\u001b[39m=\u001b[39m \u001b[39m1\u001b[39m\n\u001b[0;32m     12\u001b[0m \u001b[39mif\u001b[39;00m \u001b[39m__name__\u001b[39m \u001b[39m==\u001b[39m \u001b[39m'\u001b[39m\u001b[39m__main__\u001b[39m\u001b[39m'\u001b[39m:\n\u001b[1;32m---> 13\u001b[0m     main()\n",
      "Cell \u001b[1;32mIn[4], line 5\u001b[0m, in \u001b[0;36mmain\u001b[1;34m()\u001b[0m\n\u001b[0;32m      3\u001b[0m \u001b[39mprint\u001b[39m(\u001b[39m\"\u001b[39m\u001b[39mReady to check some ingredients?\u001b[39m\u001b[39m\"\u001b[39m)\n\u001b[0;32m      4\u001b[0m \u001b[39mwhile\u001b[39;00m done \u001b[39m<\u001b[39m \u001b[39m1\u001b[39m:\n\u001b[1;32m----> 5\u001b[0m     start()\n\u001b[0;32m      6\u001b[0m     \u001b[39mprint\u001b[39m(\u001b[39m\"\u001b[39m\u001b[39mWould you like to check another product? (Y/N)\u001b[39m\u001b[39m\"\u001b[39m)\n\u001b[0;32m      7\u001b[0m     user_input \u001b[39m=\u001b[39m \u001b[39minput\u001b[39m()\n",
      "Cell \u001b[1;32mIn[3], line 6\u001b[0m, in \u001b[0;36mstart\u001b[1;34m()\u001b[0m\n\u001b[0;32m      3\u001b[0m \u001b[39m# TODO: test more images and remove default\u001b[39;00m\n\u001b[0;32m      4\u001b[0m \u001b[39m# image_path = input()\u001b[39;00m\n\u001b[0;32m      5\u001b[0m image_path \u001b[39m=\u001b[39m \u001b[39m'\u001b[39m\u001b[39m./images/sensodyne.png\u001b[39m\u001b[39m'\u001b[39m\n\u001b[1;32m----> 6\u001b[0m checker \u001b[39m=\u001b[39m IngredientChecker(image_path)\n\u001b[0;32m      7\u001b[0m checker\u001b[39m.\u001b[39mreport()\n\u001b[0;32m      8\u001b[0m checker \u001b[39m=\u001b[39m \u001b[39mNone\u001b[39;00m\n",
      "Cell \u001b[1;32mIn[2], line 5\u001b[0m, in \u001b[0;36mIngredientChecker.__init__\u001b[1;34m(self, file_path)\u001b[0m\n\u001b[0;32m      3\u001b[0m \u001b[39mself\u001b[39m\u001b[39m.\u001b[39mingredients \u001b[39m=\u001b[39m \u001b[39mNone\u001b[39;00m\n\u001b[0;32m      4\u001b[0m \u001b[39mself\u001b[39m\u001b[39m.\u001b[39mconvert_image_to_text(file_path)\n\u001b[1;32m----> 5\u001b[0m \u001b[39mself\u001b[39;49m\u001b[39m.\u001b[39;49manalyze()\n",
      "Cell \u001b[1;32mIn[2], line 32\u001b[0m, in \u001b[0;36mIngredientChecker.analyze\u001b[1;34m(self)\u001b[0m\n\u001b[0;32m     29\u001b[0m \u001b[39mdef\u001b[39;00m \u001b[39manalyze\u001b[39m(\u001b[39mself\u001b[39m):\n\u001b[0;32m     30\u001b[0m     \u001b[39m# get analysis of ingredient list from cosmily database api\u001b[39;00m\n\u001b[0;32m     31\u001b[0m     api_url \u001b[39m=\u001b[39m \u001b[39m'\u001b[39m\u001b[39mhttps://api.cosmily.com/api/v1/analyze/ingredient_list\u001b[39m\u001b[39m'\u001b[39m\n\u001b[1;32m---> 32\u001b[0m     headers \u001b[39m=\u001b[39m  {\u001b[39m\"\u001b[39m\u001b[39mContent-Type\u001b[39m\u001b[39m\"\u001b[39m:\u001b[39m\"\u001b[39m\u001b[39mapplication/json\u001b[39m\u001b[39m\"\u001b[39m, \u001b[39m\"\u001b[39m\u001b[39mAuthorization\u001b[39m\u001b[39m\"\u001b[39m: AUTH_TOKEN}\n\u001b[0;32m     33\u001b[0m     params \u001b[39m=\u001b[39m {\u001b[39m\"\u001b[39m\u001b[39mingredients\u001b[39m\u001b[39m\"\u001b[39m: \u001b[39mself\u001b[39m\u001b[39m.\u001b[39mingredients}\n\u001b[0;32m     34\u001b[0m     response \u001b[39m=\u001b[39m requests\u001b[39m.\u001b[39mpost(api_url, params\u001b[39m=\u001b[39mparams, headers\u001b[39m=\u001b[39mheaders)\n",
      "\u001b[1;31mNameError\u001b[0m: name 'AUTH_TOKEN' is not defined"
     ]
    }
   ],
   "source": [
    "def main():\n",
    "    done = 0\n",
    "    print(\"Ready to check some ingredients?\")\n",
    "    while done < 1:\n",
    "        start()\n",
    "        print(\"Would you like to check another product? (Y/N)\")\n",
    "        user_input = input()\n",
    "        if user_input.lower() != 'y':\n",
    "            done += 1\n",
    "\n",
    "\n",
    "if __name__ == '__main__':\n",
    "    main()"
   ]
  }
 ],
 "metadata": {
  "kernelspec": {
   "display_name": "Python 3.11.0 64-bit",
   "language": "python",
   "name": "python3"
  },
  "language_info": {
   "codemirror_mode": {
    "name": "ipython",
    "version": 3
   },
   "file_extension": ".py",
   "mimetype": "text/x-python",
   "name": "python",
   "nbconvert_exporter": "python",
   "pygments_lexer": "ipython3",
   "version": "3.11.0"
  },
  "orig_nbformat": 4,
  "vscode": {
   "interpreter": {
    "hash": "0025fd0a6750b395105ac7ef65ffe7814f7cc937b2fd3d871409f44676666b8d"
   }
  }
 },
 "nbformat": 4,
 "nbformat_minor": 2
}
